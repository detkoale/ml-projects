{
 "cells": [
  {
   "cell_type": "code",
   "execution_count": 1,
   "metadata": {
    "collapsed": true
   },
   "outputs": [],
   "source": [
    "import requests"
   ]
  },
  {
   "cell_type": "code",
   "execution_count": 2,
   "metadata": {
    "collapsed": true
   },
   "outputs": [],
   "source": [
    "oanda_token = \"7d6eb066b3a3f4edd93b0a62c9bb35e8-2770361dc9957523798861e972481624\"\n"
   ]
  },
  {
   "cell_type": "code",
   "execution_count": 4,
   "metadata": {
    "collapsed": true
   },
   "outputs": [],
   "source": [
    "#def connect_to_stream():\n",
    "#    try:\n",
    "#        s = requests.Session()\n",
    "#        url = \"https://stream-fxpractice.oanda.com/v1/prices\"\n",
    "#        headers = {'Authorization' : 'Bearer ' + oanda_token,\n",
    "#                   #'X-Accept-Datetime-Format' : 'unix'\n",
    "#                  }\n",
    "#        params = {'instruments' : \"EUR_USD,AUD_JPY\", 'accountId' : \"YOUR ACC ID\"}\n",
    "#        req = requests.Request('GET', url, headers = headers, params = params)\n",
    "#        pre = req.prepare()\n",
    "#        resp = s.send(pre, stream = True, verify = False, timeout=20)\n",
    "#        return resp\n",
    "#    except Exception as e:\n",
    "#        s.close()\n",
    "#        print \"Caught exception when connecting to stream\\n\" + str(e)"
   ]
  },
  {
   "cell_type": "code",
   "execution_count": 6,
   "metadata": {
    "collapsed": true
   },
   "outputs": [],
   "source": [
    "def connect_to_stream():\n",
    "    \"\"\"\n",
    "    Environment           <Domain>\n",
    "    fxTrade               stream-fxtrade.oanda.com\n",
    "    fxTrade Practice      stream-fxpractice.oanda.com\n",
    "    sandbox               stream-sandbox.oanda.com\n",
    "    \"\"\"\n",
    "\n",
    "    # Replace the following variables with your personal ones\n",
    "    domain = 'stream-fxpractice.oanda.com'\n",
    "    access_token = oanda_token\n",
    "    account_id = '1234567'\n",
    "    instruments = \"EUR_USD,USD_CAD\"\n",
    "\n",
    "    try:\n",
    "        s = requests.Session()\n",
    "        url = \"https://\" + domain + \"/v1/prices\"\n",
    "        headers = {'Authorization' : 'Bearer ' + access_token,\n",
    "                   # 'X-Accept-Datetime-Format' : 'unix'\n",
    "                  }\n",
    "#        params = {'instruments' : instruments, 'accountId' : account_id}\n",
    "        params = {'instruments' : instruments}\n",
    "        req = requests.Request('GET', url, headers = headers, params = params)\n",
    "        pre = req.prepare()\n",
    "        resp = s.send(pre, stream = True, verify = False)\n",
    "        return resp\n",
    "    except Exception as e:\n",
    "        s.close()\n",
    "        print \"Caught exception when connecting to stream\\n\" + str(e) "
   ]
  },
  {
   "cell_type": "code",
   "execution_count": 7,
   "metadata": {
    "collapsed": true
   },
   "outputs": [],
   "source": [
    "def demo(displayHeartbeat):\n",
    "    response = connect_to_stream()\n",
    "    if response.status_code != 200:\n",
    "        print response.text\n",
    "        return\n",
    "    for line in response.iter_lines(1):\n",
    "        if line:\n",
    "            try:\n",
    "                msg = json.loads(line)\n",
    "            except Exception as e:\n",
    "                print \"Caught exception when converting message into json\\n\" + str(e)\n",
    "                return\n",
    "            \n",
    "            if displayHeartbeat:\n",
    "                print line\n",
    "            else:\n",
    "                if msg.has_key(\"instrument\") or msg.has_key(\"tick\"):\n",
    "                    print line"
   ]
  },
  {
   "cell_type": "code",
   "execution_count": 8,
   "metadata": {
    "collapsed": false
   },
   "outputs": [
    {
     "name": "stderr",
     "output_type": "stream",
     "text": [
      "/Users/detkoale/anaconda/lib/python2.7/site-packages/requests/packages/urllib3/connectionpool.py:843: InsecureRequestWarning: Unverified HTTPS request is being made. Adding certificate verification is strongly advised. See: https://urllib3.readthedocs.io/en/latest/advanced-usage.html#ssl-warnings\n",
      "  InsecureRequestWarning)\n"
     ]
    },
    {
     "name": "stdout",
     "output_type": "stream",
     "text": [
      "{\n",
      "\t\"code\" : 2,\n",
      "\t\"message\" : \"Missing required argument: accountId\",\n",
      "\t\"moreInfo\" : \"http:\\/\\/developer.oanda.com\\/docs\\/v1\\/troubleshooting\\/#errors\"\n",
      "}\r\n",
      "\n"
     ]
    }
   ],
   "source": [
    "demo(True)"
   ]
  },
  {
   "cell_type": "code",
   "execution_count": null,
   "metadata": {
    "collapsed": true
   },
   "outputs": [],
   "source": []
  }
 ],
 "metadata": {
  "anaconda-cloud": {},
  "kernelspec": {
   "display_name": "Python [conda root]",
   "language": "python",
   "name": "conda-root-py"
  },
  "language_info": {
   "codemirror_mode": {
    "name": "ipython",
    "version": 2
   },
   "file_extension": ".py",
   "mimetype": "text/x-python",
   "name": "python",
   "nbconvert_exporter": "python",
   "pygments_lexer": "ipython2",
   "version": "2.7.12"
  }
 },
 "nbformat": 4,
 "nbformat_minor": 1
}
