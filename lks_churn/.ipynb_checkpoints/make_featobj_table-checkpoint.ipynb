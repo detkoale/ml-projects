{
 "cells": [
  {
   "cell_type": "code",
   "execution_count": 1,
   "metadata": {
    "collapsed": true
   },
   "outputs": [],
   "source": [
    "import pandas as pd"
   ]
  },
  {
   "cell_type": "code",
   "execution_count": 8,
   "metadata": {
    "collapsed": false
   },
   "outputs": [],
   "source": [
    "#abon_raw_data = pd.read_csv('data/abon.csv', encoding='UTF-8')\n",
    "abon_raw_data = pd.read_excel('data/abon.xlsx')"
   ]
  },
  {
   "cell_type": "code",
   "execution_count": 12,
   "metadata": {
    "collapsed": false
   },
   "outputs": [
    {
     "name": "stdout",
     "output_type": "stream",
     "text": [
      "Index([u'UID', u'бел. Ip', u'статус', u'тариф инт', u'цена инт',\n",
      "       u'тариф др.веб', u'цена др.веб', u'тариф твзавр', u'цена твзавр',\n",
      "       u'Дата отключения'],\n",
      "      dtype='object')\n"
     ]
    }
   ],
   "source": [
    "print abon_raw_data.columns"
   ]
  },
  {
   "cell_type": "code",
   "execution_count": 16,
   "metadata": {
    "collapsed": false
   },
   "outputs": [
    {
     "name": "stdout",
     "output_type": "stream",
     "text": [
      "<class 'pandas.core.frame.DataFrame'>\n",
      "RangeIndex: 11000 entries, 0 to 10999\n",
      "Data columns (total 10 columns):\n",
      "UID                11000 non-null int64\n",
      "бел. Ip            40 non-null object\n",
      "статус             11000 non-null int64\n",
      "тариф инт          11000 non-null object\n",
      "цена инт           11000 non-null int64\n",
      "тариф др.веб       0 non-null float64\n",
      "цена др.веб        0 non-null float64\n",
      "тариф твзавр       0 non-null float64\n",
      "цена твзавр        0 non-null float64\n",
      "Дата отключения    1000 non-null object\n",
      "dtypes: float64(4), int64(3), object(3)\n",
      "memory usage: 859.4+ KB\n"
     ]
    }
   ],
   "source": [
    "abon_raw_data.info()"
   ]
  },
  {
   "cell_type": "code",
   "execution_count": 17,
   "metadata": {
    "collapsed": false
   },
   "outputs": [
    {
     "name": "stderr",
     "output_type": "stream",
     "text": [
      "/Users/detkoale/anaconda/lib/python2.7/site-packages/numpy/lib/function_base.py:3834: RuntimeWarning: Invalid value encountered in percentile\n",
      "  RuntimeWarning)\n"
     ]
    },
    {
     "data": {
      "text/html": [
       "<div>\n",
       "<table border=\"1\" class=\"dataframe\">\n",
       "  <thead>\n",
       "    <tr style=\"text-align: right;\">\n",
       "      <th></th>\n",
       "      <th>UID</th>\n",
       "      <th>статус</th>\n",
       "      <th>цена инт</th>\n",
       "      <th>тариф др.веб</th>\n",
       "      <th>цена др.веб</th>\n",
       "      <th>тариф твзавр</th>\n",
       "      <th>цена твзавр</th>\n",
       "    </tr>\n",
       "  </thead>\n",
       "  <tbody>\n",
       "    <tr>\n",
       "      <th>count</th>\n",
       "      <td>1.100000e+04</td>\n",
       "      <td>11000.000000</td>\n",
       "      <td>11000.000000</td>\n",
       "      <td>0.0</td>\n",
       "      <td>0.0</td>\n",
       "      <td>0.0</td>\n",
       "      <td>0.0</td>\n",
       "    </tr>\n",
       "    <tr>\n",
       "      <th>mean</th>\n",
       "      <td>1.014412e+07</td>\n",
       "      <td>0.090909</td>\n",
       "      <td>358.870091</td>\n",
       "      <td>NaN</td>\n",
       "      <td>NaN</td>\n",
       "      <td>NaN</td>\n",
       "      <td>NaN</td>\n",
       "    </tr>\n",
       "    <tr>\n",
       "      <th>std</th>\n",
       "      <td>5.281842e+04</td>\n",
       "      <td>0.287493</td>\n",
       "      <td>60.747627</td>\n",
       "      <td>NaN</td>\n",
       "      <td>NaN</td>\n",
       "      <td>NaN</td>\n",
       "      <td>NaN</td>\n",
       "    </tr>\n",
       "    <tr>\n",
       "      <th>min</th>\n",
       "      <td>1.000013e+07</td>\n",
       "      <td>0.000000</td>\n",
       "      <td>0.000000</td>\n",
       "      <td>NaN</td>\n",
       "      <td>NaN</td>\n",
       "      <td>NaN</td>\n",
       "      <td>NaN</td>\n",
       "    </tr>\n",
       "    <tr>\n",
       "      <th>25%</th>\n",
       "      <td>1.011592e+07</td>\n",
       "      <td>0.000000</td>\n",
       "      <td>300.000000</td>\n",
       "      <td>NaN</td>\n",
       "      <td>NaN</td>\n",
       "      <td>NaN</td>\n",
       "      <td>NaN</td>\n",
       "    </tr>\n",
       "    <tr>\n",
       "      <th>50%</th>\n",
       "      <td>1.017329e+07</td>\n",
       "      <td>0.000000</td>\n",
       "      <td>350.000000</td>\n",
       "      <td>NaN</td>\n",
       "      <td>NaN</td>\n",
       "      <td>NaN</td>\n",
       "      <td>NaN</td>\n",
       "    </tr>\n",
       "    <tr>\n",
       "      <th>75%</th>\n",
       "      <td>1.018084e+07</td>\n",
       "      <td>0.000000</td>\n",
       "      <td>399.000000</td>\n",
       "      <td>NaN</td>\n",
       "      <td>NaN</td>\n",
       "      <td>NaN</td>\n",
       "      <td>NaN</td>\n",
       "    </tr>\n",
       "    <tr>\n",
       "      <th>max</th>\n",
       "      <td>1.018744e+07</td>\n",
       "      <td>1.000000</td>\n",
       "      <td>1000.000000</td>\n",
       "      <td>NaN</td>\n",
       "      <td>NaN</td>\n",
       "      <td>NaN</td>\n",
       "      <td>NaN</td>\n",
       "    </tr>\n",
       "  </tbody>\n",
       "</table>\n",
       "</div>"
      ],
      "text/plain": [
       "                UID        статус      цена инт  тариф др.веб  цена др.веб  \\\n",
       "count  1.100000e+04  11000.000000  11000.000000           0.0          0.0   \n",
       "mean   1.014412e+07      0.090909    358.870091           NaN          NaN   \n",
       "std    5.281842e+04      0.287493     60.747627           NaN          NaN   \n",
       "min    1.000013e+07      0.000000      0.000000           NaN          NaN   \n",
       "25%    1.011592e+07      0.000000    300.000000           NaN          NaN   \n",
       "50%    1.017329e+07      0.000000    350.000000           NaN          NaN   \n",
       "75%    1.018084e+07      0.000000    399.000000           NaN          NaN   \n",
       "max    1.018744e+07      1.000000   1000.000000           NaN          NaN   \n",
       "\n",
       "       тариф твзавр  цена твзавр  \n",
       "count           0.0          0.0  \n",
       "mean            NaN          NaN  \n",
       "std             NaN          NaN  \n",
       "min             NaN          NaN  \n",
       "25%             NaN          NaN  \n",
       "50%             NaN          NaN  \n",
       "75%             NaN          NaN  \n",
       "max             NaN          NaN  "
      ]
     },
     "execution_count": 17,
     "metadata": {},
     "output_type": "execute_result"
    }
   ],
   "source": [
    "abon_raw_data.describe()"
   ]
  },
  {
   "cell_type": "code",
   "execution_count": null,
   "metadata": {
    "collapsed": true
   },
   "outputs": [],
   "source": []
  }
 ],
 "metadata": {
  "anaconda-cloud": {},
  "kernelspec": {
   "display_name": "Python [conda root]",
   "language": "python",
   "name": "conda-root-py"
  },
  "language_info": {
   "codemirror_mode": {
    "name": "ipython",
    "version": 2
   },
   "file_extension": ".py",
   "mimetype": "text/x-python",
   "name": "python",
   "nbconvert_exporter": "python",
   "pygments_lexer": "ipython2",
   "version": "2.7.12"
  }
 },
 "nbformat": 4,
 "nbformat_minor": 1
}
